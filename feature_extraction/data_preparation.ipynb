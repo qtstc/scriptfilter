{
 "metadata": {
  "name": "",
  "signature": "sha256:7e6be17fad920772f44dbf8f1c7dd1d6bd074888c36099396aca7f6d612e0cb9"
 },
 "nbformat": 3,
 "nbformat_minor": 0,
 "worksheets": [
  {
   "cells": [
    {
     "cell_type": "code",
     "collapsed": false,
     "input": [
      "'''\n",
      "import pickle\n",
      "# Parse websites from malicious_edited.txt\n",
      "f = open('malicious_edited.txt')\n",
      "line = f.readline()\n",
      "prefix = '0.0.0.0 '\n",
      "prefix_len = len(prefix)\n",
      "positive_list = []\n",
      "while line:\n",
      "    if not line.startswith(prefix):\n",
      "        line = f.readline()\n",
      "        continue\n",
      "    line = line[prefix_len:len(line)-1]\n",
      "    space_loc = line.find(\" \")\n",
      "    if space_loc != -1:\n",
      "        line=line[0:space_loc]\n",
      "    positive_list.append(line)\n",
      "    line = f.readline()\n",
      "f.close()\n",
      "pickle.dump(positive_list, open('positive.pkl', 'wb')) \n",
      "\n",
      "# Parse websites from Alex's top 1 million list\n",
      "f = open('top-1m.csv')\n",
      "line = f.readline()\n",
      "count = 0\n",
      "negative_list = []\n",
      "while line and count < 3000:\n",
      "    comma_loc = line.find(\",\")\n",
      "    if comma_loc != -1:\n",
      "        line=line[comma_loc+1:len(line)-1]\n",
      "    else:\n",
      "        print \"Wrong format\"\n",
      "    negative_list.append(line)\n",
      "    line = f.readline()\n",
      "    count += 1\n",
      "f.close()\n",
      "pickle.dump(negative_list, open('negative.pkl','wb'))\n",
      "'''"
     ],
     "language": "python",
     "metadata": {},
     "outputs": [],
     "prompt_number": 28
    },
    {
     "cell_type": "code",
     "collapsed": false,
     "input": [
      "import pickle\n",
      "a = [1,2,3,4]\n",
      "with open('test.pkl','wb') as f:\n",
      "    pickle.dump (a,f)"
     ],
     "language": "python",
     "metadata": {},
     "outputs": [],
     "prompt_number": 2
    },
    {
     "cell_type": "code",
     "collapsed": false,
     "input": [
      "import pickle\n",
      "with open('negative.pkl','r') as f:\n",
      "    negative_list = pickle.load(f)\n",
      "with open('positive.pkl','r') as f:\n",
      "    positive_list = pickle.load(f)\n",
      "\n",
      "import requests\n",
      "pages = []\n",
      "failed_list = []\n",
      "file_count = 0\n",
      "batch_size = 200\n",
      "for url in negative_list:\n",
      "    result = None\n",
      "    try:\n",
      "        result = requests.get('http://'+url, allow_redirects=True,timeout=5)\n",
      "    except:\n",
      "        print \"ERROR:\"+url\n",
      "        failed_list.append(url)\n",
      "    pages.append((url,result))\n",
      "    if(len(pages) == batch_size):\n",
      "        with open('pages/negative_pages_'+str(file_count)+'.pkl','wb') as f:\n",
      "            pickle.dump(pages, f)\n",
      "        file_count += 1\n",
      "        print \"Finished processing \"+str(batch_size)\n",
      "        pages = []\n",
      "        \n",
      "if len(pages) != 0:\n",
      "    with open('pages/negative_pages_'+str(file_count)+'.pkl','wb') as f:\n",
      "        pickle.dump(pages, f)\n",
      "        \n",
      "with open('pages/negative_failed.pkl','wb') as f:\n",
      "    pickle.dump(failed_list, f)\n",
      "print \"Finished \"+str(len(failed_list))+\" failed in negative\"\n",
      "    \n",
      "pages = []\n",
      "failed_list = []\n",
      "file_count = 0\n",
      "for url in positive_list:\n",
      "    result = None\n",
      "    try:\n",
      "        result = requests.get('http://'+url, allow_redirects=True,timeout=5)\n",
      "    except:\n",
      "        print \"ERROR:\"+url\n",
      "        failed_list.append(url)\n",
      "    pages.append((url,result))\n",
      "    if(len(pages) == batch_size):\n",
      "        with open('pages/positive_pages_'+str(file_count)+'.pkl','wb') as f:\n",
      "            pickle.dump(pages, f)\n",
      "        file_count += 1\n",
      "        print \"Finished processing \"+str(batch_size)\n",
      "        pages = []\n",
      "        \n",
      "if len(pages) != 0:\n",
      "    with open('pages/positive_pages_'+str(file_count)+'.pkl','wb') as f:\n",
      "        pickle.dump(pages, f)\n",
      "        \n",
      "with open('pages/positive_failed.pkl','wb') as f:\n",
      "    pickle.dump(failed_list,f)\n",
      "print \"Finished \"+str(len(failed_list))+\" failed in positive\""
     ],
     "language": "python",
     "metadata": {},
     "outputs": [
      {
       "output_type": "stream",
       "stream": "stdout",
       "text": [
        "Finished processing 10\n",
        "Finished processing 10"
       ]
      },
      {
       "output_type": "stream",
       "stream": "stdout",
       "text": [
        "\n",
        "ERROR:adcash.com"
       ]
      },
      {
       "output_type": "stream",
       "stream": "stdout",
       "text": [
        "\n",
        "Finished processing 10"
       ]
      }
     ]
    },
    {
     "cell_type": "code",
     "collapsed": false,
     "input": [],
     "language": "python",
     "metadata": {},
     "outputs": []
    },
    {
     "cell_type": "code",
     "collapsed": false,
     "input": [],
     "language": "python",
     "metadata": {},
     "outputs": []
    },
    {
     "cell_type": "code",
     "collapsed": false,
     "input": [],
     "language": "python",
     "metadata": {},
     "outputs": []
    },
    {
     "cell_type": "code",
     "collapsed": false,
     "input": [],
     "language": "python",
     "metadata": {},
     "outputs": []
    },
    {
     "cell_type": "code",
     "collapsed": false,
     "input": [],
     "language": "python",
     "metadata": {},
     "outputs": []
    },
    {
     "cell_type": "code",
     "collapsed": false,
     "input": [],
     "language": "python",
     "metadata": {},
     "outputs": []
    },
    {
     "cell_type": "code",
     "collapsed": false,
     "input": [],
     "language": "python",
     "metadata": {},
     "outputs": []
    },
    {
     "cell_type": "code",
     "collapsed": false,
     "input": [],
     "language": "python",
     "metadata": {},
     "outputs": []
    },
    {
     "cell_type": "code",
     "collapsed": false,
     "input": [],
     "language": "python",
     "metadata": {},
     "outputs": []
    },
    {
     "cell_type": "code",
     "collapsed": false,
     "input": [],
     "language": "python",
     "metadata": {},
     "outputs": []
    },
    {
     "cell_type": "code",
     "collapsed": false,
     "input": [],
     "language": "python",
     "metadata": {},
     "outputs": []
    },
    {
     "cell_type": "code",
     "collapsed": false,
     "input": [],
     "language": "python",
     "metadata": {},
     "outputs": []
    },
    {
     "cell_type": "code",
     "collapsed": false,
     "input": [],
     "language": "python",
     "metadata": {},
     "outputs": []
    },
    {
     "cell_type": "code",
     "collapsed": false,
     "input": [],
     "language": "python",
     "metadata": {},
     "outputs": []
    },
    {
     "cell_type": "code",
     "collapsed": false,
     "input": [],
     "language": "python",
     "metadata": {},
     "outputs": []
    },
    {
     "cell_type": "code",
     "collapsed": false,
     "input": [
      "r = requests.get('http://google.com', allow_redirects=True,timeout=1)"
     ],
     "language": "python",
     "metadata": {},
     "outputs": [],
     "prompt_number": 23
    },
    {
     "cell_type": "code",
     "collapsed": false,
     "input": [
      "r.history[1].url"
     ],
     "language": "python",
     "metadata": {},
     "outputs": [
      {
       "ename": "IndexError",
       "evalue": "list index out of range",
       "output_type": "pyerr",
       "traceback": [
        "\u001b[1;31m---------------------------------------------------------------------------\u001b[0m\n\u001b[1;31mIndexError\u001b[0m                                Traceback (most recent call last)",
        "\u001b[1;32m<ipython-input-26-96e7fd798de6>\u001b[0m in \u001b[0;36m<module>\u001b[1;34m()\u001b[0m\n\u001b[1;32m----> 1\u001b[1;33m \u001b[0mr\u001b[0m\u001b[1;33m.\u001b[0m\u001b[0mhistory\u001b[0m\u001b[1;33m[\u001b[0m\u001b[1;36m1\u001b[0m\u001b[1;33m]\u001b[0m\u001b[1;33m.\u001b[0m\u001b[0murl\u001b[0m\u001b[1;33m\u001b[0m\u001b[0m\n\u001b[0m",
        "\u001b[1;31mIndexError\u001b[0m: list index out of range"
       ]
      }
     ],
     "prompt_number": 26
    },
    {
     "cell_type": "code",
     "collapsed": false,
     "input": [],
     "language": "python",
     "metadata": {},
     "outputs": []
    },
    {
     "cell_type": "code",
     "collapsed": false,
     "input": [],
     "language": "python",
     "metadata": {},
     "outputs": []
    },
    {
     "cell_type": "code",
     "collapsed": false,
     "input": [],
     "language": "python",
     "metadata": {},
     "outputs": []
    },
    {
     "cell_type": "code",
     "collapsed": false,
     "input": [
      "r.url"
     ],
     "language": "python",
     "metadata": {},
     "outputs": [
      {
       "metadata": {},
       "output_type": "pyout",
       "prompt_number": 22,
       "text": [
        "u'http://www.google.com/'"
       ]
      }
     ],
     "prompt_number": 22
    },
    {
     "cell_type": "code",
     "collapsed": false,
     "input": [],
     "language": "python",
     "metadata": {},
     "outputs": []
    },
    {
     "cell_type": "code",
     "collapsed": false,
     "input": [],
     "language": "python",
     "metadata": {},
     "outputs": []
    },
    {
     "cell_type": "code",
     "collapsed": false,
     "input": [],
     "language": "python",
     "metadata": {},
     "outputs": []
    },
    {
     "cell_type": "code",
     "collapsed": false,
     "input": [],
     "language": "python",
     "metadata": {},
     "outputs": []
    },
    {
     "cell_type": "code",
     "collapsed": false,
     "input": [],
     "language": "python",
     "metadata": {},
     "outputs": []
    },
    {
     "cell_type": "code",
     "collapsed": false,
     "input": [],
     "language": "python",
     "metadata": {},
     "outputs": []
    },
    {
     "cell_type": "code",
     "collapsed": false,
     "input": [],
     "language": "python",
     "metadata": {},
     "outputs": []
    },
    {
     "cell_type": "code",
     "collapsed": false,
     "input": [],
     "language": "python",
     "metadata": {},
     "outputs": [
      {
       "metadata": {},
       "output_type": "pyout",
       "prompt_number": 14,
       "text": [
        "'<HTML><HEAD><meta http-equiv=\"content-type\" content=\"text/html;charset=utf-8\">\\n<TITLE>301 Moved</TITLE></HEAD><BODY>\\n<H1>301 Moved</H1>\\nThe document has moved\\n<A HREF=\"http://www.google.com/\">here</A>.\\r\\n</BODY></HTML>\\r\\n'"
       ]
      }
     ],
     "prompt_number": 14
    },
    {
     "cell_type": "code",
     "collapsed": false,
     "input": [],
     "language": "python",
     "metadata": {},
     "outputs": []
    },
    {
     "cell_type": "code",
     "collapsed": false,
     "input": [],
     "language": "python",
     "metadata": {},
     "outputs": []
    },
    {
     "cell_type": "code",
     "collapsed": false,
     "input": [
      "r.content"
     ],
     "language": "python",
     "metadata": {},
     "outputs": [
      {
       "metadata": {},
       "output_type": "pyout",
       "prompt_number": 11,
       "text": [
        "''"
       ]
      }
     ],
     "prompt_number": 11
    },
    {
     "cell_type": "code",
     "collapsed": false,
     "input": [],
     "language": "python",
     "metadata": {},
     "outputs": []
    },
    {
     "cell_type": "code",
     "collapsed": false,
     "input": [],
     "language": "python",
     "metadata": {},
     "outputs": []
    },
    {
     "cell_type": "code",
     "collapsed": false,
     "input": [],
     "language": "python",
     "metadata": {},
     "outputs": []
    },
    {
     "cell_type": "code",
     "collapsed": false,
     "input": [],
     "language": "python",
     "metadata": {},
     "outputs": []
    },
    {
     "cell_type": "code",
     "collapsed": false,
     "input": [],
     "language": "python",
     "metadata": {},
     "outputs": []
    },
    {
     "cell_type": "code",
     "collapsed": false,
     "input": [],
     "language": "python",
     "metadata": {},
     "outputs": []
    },
    {
     "cell_type": "code",
     "collapsed": false,
     "input": [],
     "language": "python",
     "metadata": {},
     "outputs": []
    },
    {
     "cell_type": "code",
     "collapsed": false,
     "input": [],
     "language": "python",
     "metadata": {},
     "outputs": []
    },
    {
     "cell_type": "code",
     "collapsed": false,
     "input": [],
     "language": "python",
     "metadata": {},
     "outputs": []
    },
    {
     "cell_type": "code",
     "collapsed": false,
     "input": [],
     "language": "python",
     "metadata": {},
     "outputs": []
    },
    {
     "cell_type": "code",
     "collapsed": false,
     "input": [],
     "language": "python",
     "metadata": {},
     "outputs": []
    }
   ],
   "metadata": {}
  }
 ]
}